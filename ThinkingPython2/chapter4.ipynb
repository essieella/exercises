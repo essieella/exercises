{
 "cells": [
  {
   "cell_type": "markdown",
   "metadata": {},
   "source": [
    "# Exercises 4.3\n",
    "Note: These exercises are run in terminal because the python turtle isn't compatible with jupyter.\n",
    "## Problem 1\n",
    "Write a function called square that takes a parameter named t, which is a turtle. It should use the turtle to draw a square. \n",
    "\n",
    "Write a function call that passes bob as an argument to square, and then run the program again."
   ]
  },
  {
   "cell_type": "code",
   "execution_count": null,
   "metadata": {},
   "outputs": [],
   "source": [
    "def square(t):\n",
    "    for i in range(4):\n",
    "        t.fd(50)\n",
    "        t.lt(90)\n",
    "\n",
    "square(bob)"
   ]
  },
  {
   "cell_type": "markdown",
   "metadata": {},
   "source": [
    "results: makes a square with length of 50"
   ]
  },
  {
   "cell_type": "markdown",
   "metadata": {},
   "source": [
    "## Problem 2\n",
    "Add another parameter, named length, to square. Modify the body so length of the sides is length, and then modify the function call to provide a second argument. Run the program again. Test your program with a range of values for length."
   ]
  },
  {
   "cell_type": "code",
   "execution_count": null,
   "metadata": {},
   "outputs": [],
   "source": [
    "def square(t, length):\n",
    "    for i in range(4):\n",
    "        t.fd(length)\n",
    "        t.lt(90)\n",
    "\n",
    "square(bob, 40)\n",
    "square(bob, 50)\n",
    "square(bob, 60)"
   ]
  },
  {
   "cell_type": "markdown",
   "metadata": {},
   "source": [
    "results: makes squares with lengths of 40, 50 and 60"
   ]
  },
  {
   "cell_type": "markdown",
   "metadata": {},
   "source": [
    "## Problem 3\n",
    "Make a copy of square and change the name of polygon. Add another parameter named n and modify the body so it draws an n-sided regular polygon. \n",
    "\n",
    "Hint: The exterior of an n-sided regular polygon are 360/n degrees."
   ]
  },
  {
   "cell_type": "code",
   "execution_count": null,
   "metadata": {},
   "outputs": [],
   "source": [
    "def polygon(t, length, n):\n",
    "    for i in range(n):\n",
    "        t.fd(length)\n",
    "        t.lt(360/n)\n",
    "\n",
    "polygon(bob, 40, 5)\n",
    "polygon(bob, 50, 6)\n",
    "polygon(bob, 60, 7)"
   ]
  },
  {
   "cell_type": "markdown",
   "metadata": {},
   "source": [
    "## Problem 4\n",
    "Write a function called circle that takes a turtle, t, and radius, r, as parameters and that draws an approximate circle by calling polygon with an appropriate length and number of sides. Test your function with a range of values of r. \n",
    "\n",
    "Hint: figure out the circumference of the circle and make sure that length * n = circumference. "
   ]
  },
  {
   "cell_type": "code",
   "execution_count": null,
   "metadata": {},
   "outputs": [],
   "source": [
    "def circle(t, r):\n",
    "    polygon(t, r/57.296, 360)\n",
    "\n",
    "circle(bob, 10)"
   ]
  },
  {
   "cell_type": "markdown",
   "metadata": {},
   "source": [
    "n = 360\n",
    "\n",
    "length * n = circumference\n",
    "\n",
    "length * 360 = 2pi * r\n",
    "\n",
    "length = (2pi * r) / 360 = r / 57.296"
   ]
  },
  {
   "cell_type": "markdown",
   "metadata": {},
   "source": [
    "## Problem 5\n",
    "Make a more general version of circle called arc that takes an additional parameter angle, which determines what fraction of a circle to draw. angle is in units of degrees, so when angle = 360, arc should draw a complete circle.\n"
   ]
  },
  {
   "cell_type": "code",
   "execution_count": null,
   "metadata": {},
   "outputs": [],
   "source": [
    "def arc(angle)\n",
    "    polygon(bob, 50/57.296, angle)\n",
    "\n",
    "arc(90)"
   ]
  },
  {
   "cell_type": "markdown",
   "metadata": {},
   "source": [
    "## Takeaways\n",
    "* turtle module\n",
    "* for loop"
   ]
  },
  {
   "cell_type": "markdown",
   "metadata": {},
   "source": [
    "# Exercises 4.12"
   ]
  },
  {
   "cell_type": "markdown",
   "metadata": {},
   "source": [
    "## Exercise 4.1\n",
    "Download the code in this chapter from http://thinkpython2.com/code/polygon.py\n",
    "\n",
    "1. Draw a stack diagram that shows the state of the program while executing circle(bob, radius). You can do the arithmetic by hand or add print statements to the code.\n",
    "\n",
    "__main__ calls __circle__\n",
    " \n",
    " \n",
    " t = bob\n",
    " \n",
    " r = radius\n",
    "\n",
    "__circle__ calls __polygon__\n",
    " \n",
    " \n",
    " t = bob\n",
    " \n",
    " r = radius/57.26\n",
    "\n",
    "__polygon__ \n",
    " \n",
    " \n",
    " t = bob\n",
    " \n",
    " length = radius/57.26\n",
    " \n",
    " n = 360\n",
    " \n",
    "2. The version of arc in Section 4.7 is not very accurate because the linear approximation of the circle is always outside the true circle. As a result, the Turtle ends up a few pixels away from the correct destination. My solution shows a way to reduce the effect of this error. Read the code and see if it makes sense to you. If you draw a diagram, you might see how it works."
   ]
  },
  {
   "cell_type": "code",
   "execution_count": null,
   "metadata": {},
   "outputs": [],
   "source": []
  }
 ],
 "metadata": {
  "kernelspec": {
   "display_name": "Python 3",
   "language": "python",
   "name": "python3"
  },
  "language_info": {
   "codemirror_mode": {
    "name": "ipython",
    "version": 3
   },
   "file_extension": ".py",
   "mimetype": "text/x-python",
   "name": "python",
   "nbconvert_exporter": "python",
   "pygments_lexer": "ipython3",
   "version": "3.7.0"
  }
 },
 "nbformat": 4,
 "nbformat_minor": 2
}
