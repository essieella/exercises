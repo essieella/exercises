{
 "cells": [
  {
   "cell_type": "markdown",
   "metadata": {},
   "source": [
    "# Dining Philosophers Contest @ University of Philadelphia\n",
    "[Problem sheet](https://pclassic.org/files/problems/PClassic2018sProblems.pdf)"
   ]
  },
  {
   "cell_type": "markdown",
   "metadata": {},
   "source": [
    "## Problem 1\n",
    "This is my way of doing the first problem:"
   ]
  },
  {
   "cell_type": "code",
   "execution_count": 3,
   "metadata": {},
   "outputs": [
    {
     "data": {
      "text/plain": [
       "'tahW seog ,dnuora semoc !dnuora '"
      ]
     },
     "execution_count": 3,
     "metadata": {},
     "output_type": "execute_result"
    }
   ],
   "source": [
    "def reversing(s):\n",
    "    result = \"\"\n",
    "    a = s.split()\n",
    "    for word in a:\n",
    "        result = result + word[::-1] + \" \"\n",
    "    return result\n",
    "        \n",
    "reversing(\"What goes around, comes around!\")"
   ]
  },
  {
   "cell_type": "markdown",
   "metadata": {},
   "source": [
    "This is my father's way of doing the first problem:"
   ]
  },
  {
   "cell_type": "code",
   "execution_count": 4,
   "metadata": {},
   "outputs": [
    {
     "data": {
      "text/plain": [
       "'tahW seog ,dnuora semoc !dnuora'"
      ]
     },
     "execution_count": 4,
     "metadata": {},
     "output_type": "execute_result"
    }
   ],
   "source": [
    "def rev(s):\n",
    "    l_rev = []\n",
    "    for word in s.split():\n",
    "        l_rev.append(word[::-1])\n",
    "    return ' '.join(l_rev)\n",
    "\n",
    "\n",
    "rev(\"What goes around, comes around!\")"
   ]
  },
  {
   "cell_type": "markdown",
   "metadata": {},
   "source": [
    "## Problem 3"
   ]
  },
  {
   "cell_type": "code",
   "execution_count": 5,
   "metadata": {},
   "outputs": [],
   "source": [
    "import math\n",
    "def philcoin(amount):\n",
    "    amount = amount * amount\n",
    "    amount = str(amount)\n",
    "    for number in range(len(amount)):\n",
    "        amount_pc = amount[0:number]\n",
    "        if (amount_pc == ''):\n",
    "            amount_pc = 0  \n",
    "        amount_usd = amount[number: len(amount)]\n",
    "        # print(number, ',', amount_pc, ',', amount_usd)  \n",
    "        if ((int(amount_usd) > 0) and (int(amount_pc) + int(amount_usd) == math.sqrt(int(amount)))):\n",
    "            return True\n",
    "    return False\n",
    "\n",
    "# tests\n",
    "assert philcoin(1) == True\n",
    "assert philcoin(10) == False\n",
    "assert philcoin(14) == False"
   ]
  },
  {
   "cell_type": "markdown",
   "metadata": {},
   "source": [
    "## Problem 4"
   ]
  },
  {
   "cell_type": "code",
   "execution_count": 7,
   "metadata": {
    "scrolled": true
   },
   "outputs": [],
   "source": [
    "def dna(a, b):  \n",
    "    diff_place = 0\n",
    "    a = bin(a).replace(\"0b\", \"\")\n",
    "    b = bin(b).replace(\"0b\", \"\")\n",
    "    if (a > b):\n",
    "        diff_length = len(a) - len(b)\n",
    "        b = \"0\" * diff_length + b\n",
    "    elif (b > a):\n",
    "        diff_length = len(b) - len(a)\n",
    "        a = \"0\" * diff_length + a\n",
    "    for number in range(len(a)):\n",
    "        if (a[number] != b[number]):\n",
    "            diff_place = diff_place + 1\n",
    "    return diff_place\n",
    "\n",
    "# tests\n",
    "assert dna(1, 4) == 2\n",
    "assert dna(1, 1) == 0"
   ]
  }
 ],
 "metadata": {
  "kernelspec": {
   "display_name": "Python 3",
   "language": "python",
   "name": "python3"
  },
  "language_info": {
   "codemirror_mode": {
    "name": "ipython",
    "version": 3
   },
   "file_extension": ".py",
   "mimetype": "text/x-python",
   "name": "python",
   "nbconvert_exporter": "python",
   "pygments_lexer": "ipython3",
   "version": "3.7.0"
  }
 },
 "nbformat": 4,
 "nbformat_minor": 2
}
